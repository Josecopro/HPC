{
 "cells": [
  {
   "cell_type": "markdown",
   "metadata": {},
   "source": [
    "# Explicaciones del trabajo HPC dia 23 de Marzo del 2025 \n",
    "\n",
    "## Ejercicio #6 (Suma de matrices)\n",
    "\n",
    "> Primero pense en como hacer que el recorrido de las matrices no fuera un numero quemado, por lo cual busque en como se podria hacer de tal manera que con el tamaño de la matriz se pudieraa hallar su cantidad de filas y columnas, en donde encontre que utilizando una manera ingeniosa de Sizeof se podria calcular esto, tal que:\n",
    "\n",
    "```c\n",
    "int rows = sizeof(matrix) / sizeof(matrix[0]);\n",
    "int cols = sizeof(matrix[0]) / sizeof(matrix[0][0]);\n",
    "printf(\"Rows: %d, Columns: %d\\n\", rows, cols);\n",
    "```\n",
    "\n",
    "> Sin embargo no me dejaba ejecutarlo cuando intentaba utilizarlo desde la funcion, por lo cual decidi algo mas sencillo, utilizar #define en donde es un poco más rustico pero aun asi cumple con el objetivo\n",
    "\n",
    "\n",
    "## Ejercicio 7 (Listas Enlazadas)\n",
    "\n",
    "\n",
    "> concepto de estructuras en C y busqué recursos adicionales para reforzar mi conocimiento. Uno de los recursos que encontré fue este [Video](https://youtu.be/DneLxrPmmsw?si=1F6PQ0xIMSr2ozo), el cual explica de manera clara cómo usar Struc y su uso de forma externa como variable, despies de eso fue unicamente el pensar el uso de punteros desde aqui y la impresion de cada uno de los elementos, en donde fue usado ayuda de IA (Github Copilot)\n",
    "\n",
    "\n",
    "## Ejercicio 8 (Bubble sort)\n",
    "\n",
    "\n",
    "> En realidad este codigo ya lo habiamos hecho, sin embargo, lo que hice fue crearlo desde unaa funcion para dejar un codigo mas limpio\n",
    "y tambien el uso de IA (Github Copilot) para la creacion del array a organizar\n",
    "\n",
    "\n",
    "## Ejercicio 9 (Calculadora)\n",
    "\n",
    "> La creacion de la calculadora fue siguiendo la estructura general que se tenia en el pseudocodigo dado en la actividad evaluativa, se hicieron cambios como: Remover el NULL debido a que solo podia retornar enteros, el uso de los punteros para las funciones de suma.\n",
    "\n",
    "> Intente usar el puntero en la variable de operador pero no me dejaba, no entendi el error, por lo cual decidi dejarlo normal\n",
    "\n",
    "\n",
    "## Ejercicio 10 (Filas)\n",
    "\n",
    "> Al igual que con listas enlazadas, era un concepto que ya tenia debido a Estructuras de datos, mi modo de pensar fue utilizar las mismas funciones de listas enlazadas y utilizar LIFO como I/O, el main fue unicamente para probar que si hice todo bien :)\n"
   ]
  }
 ],
 "metadata": {
  "language_info": {
   "name": "python"
  }
 },
 "nbformat": 4,
 "nbformat_minor": 2
}
