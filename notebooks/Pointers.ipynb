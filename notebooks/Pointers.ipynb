{
 "cells": [
  {
   "cell_type": "markdown",
   "metadata": {},
   "source": [
    "# ¿Qué es un puntero?\n",
    "\n",
    "> es una variable que *almacena la direccion de memoria*, en lugar de obtener el valor directo \n",
    "\n",
    "## Beneficios\n",
    "\n",
    " * *Acceder y modificar datos*\n",
    " * *Manipular estructuras dinámicas*\n",
    " * *Optimizar el uso de memoria* \n",
    "\n",
    " > Debido a que los *punteros* tienen directamente la referencia a memoria hacia el valor, es util para cambiar valores por fuera del scope "
   ]
  },
  {
   "cell_type": "code",
   "execution_count": null,
   "metadata": {
    "vscode": {
     "languageId": "plaintext"
    }
   },
   "outputs": [],
   "source": []
  },
  {
   "cell_type": "code",
   "execution_count": null,
   "metadata": {
    "vscode": {
     "languageId": "plaintext"
    }
   },
   "outputs": [],
   "source": []
  }
 ],
 "metadata": {
  "language_info": {
   "name": "python"
  }
 },
 "nbformat": 4,
 "nbformat_minor": 2
}
